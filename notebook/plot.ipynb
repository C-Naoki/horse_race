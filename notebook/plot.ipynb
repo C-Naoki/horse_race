{
 "cells": [
  {
   "cell_type": "code",
   "execution_count": 1,
   "metadata": {},
   "outputs": [],
   "source": [
    "# ひとつ上のディレクトリをパスに追加\n",
    "import os\n",
    "import sys\n",
    "sys.path.append(os.path.join(os.path.dirname(\"/Users/naoki/git/Horse-Racing/Notebook/plot.ipynb\"), '..'))"
   ]
  },
  {
   "cell_type": "code",
   "execution_count": 4,
   "metadata": {},
   "outputs": [],
   "source": [
    "import backend.module as m\n",
    "from backend.module._class import (\n",
    "    HorseResults,\n",
    "    Peds,\n",
    "    Result,\n",
    "    ModelEvaluator,\n",
    "    HorseProfile,\n",
    "    RaceCard,\n",
    "    Race,\n",
    "    RaceDateMapping,\n",
    "    TableMerger,\n",
    "    OriginalRaceCard,\n",
    "    RankPredictor,\n",
    "    PredictionDisplayer,\n",
    "    PredictionResultExtracter\n",
    ")\n",
    "# import backend._dat\n",
    "from backend.environment import settings as sets\n",
    "from backend.module.crud.read import read_result, read_horse_profile"
   ]
  },
  {
   "cell_type": "code",
   "execution_count": 3,
   "metadata": {},
   "outputs": [
    {
     "name": "stderr",
     "output_type": "stream",
     "text": [
      "/Users/naoki/.pyenv/versions/3.10.1/envs/Horse/lib/python3.10/site-packages/tqdm/auto.py:22: TqdmWarning: IProgress not found. Please update jupyter and ipywidgets. See https://ipywidgets.readthedocs.io/en/stable/user_install.html\n",
      "  from .autonotebook import tqdm as notebook_tqdm\n",
      "/var/folders/87/x8mg3g9x6s92pjx6xdzdyg3m0000gn/T/ipykernel_5416/2623578752.py:14: DeprecationWarning: Importing display from IPython.core.display is deprecated since IPython 7.14, please import from IPython display\n",
      "  from IPython.core.display import display\n"
     ]
    }
   ],
   "source": [
    "import csv\n",
    "import time\n",
    "import warnings\n",
    "import numpy as np\n",
    "import pandas as pd\n",
    "import matplotlib.pyplot as plt\n",
    "import requests\n",
    "import re\n",
    "import pickle\n",
    "import lightgbm as lgb\n",
    "import optuna\n",
    "import optuna.integration.lightgbm as lgb_o\n",
    "from datetime import datetime, date\n",
    "from IPython.core.display import display\n",
    "from sklearn.metrics import roc_auc_score\n",
    "from sklearn.preprocessing import LabelEncoder\n",
    "from sklearn.model_selection import train_test_split\n",
    "from sklearn.metrics import accuracy_score, roc_curve, roc_auc_score, r2_score, mean_squared_error\n",
    "from tqdm import tqdm\n",
    "from bs4 import BeautifulSoup\n",
    "from itertools import combinations\n",
    "from itertools import permutations\n",
    "from urllib.request import urlopen\n",
    "from hyperopt import hp, tpe, Trials, fmin, STATUS_OK\n",
    "from selenium import webdriver\n",
    "from selenium.webdriver.chrome.options import Options"
   ]
  },
  {
   "cell_type": "code",
   "execution_count": 5,
   "metadata": {},
   "outputs": [],
   "source": [
    "df = pd.read_pickle('temp.pickle')"
   ]
  },
  {
   "cell_type": "code",
   "execution_count": 6,
   "metadata": {},
   "outputs": [],
   "source": [
    "pre = PredictionResultExtracter()"
   ]
  },
  {
   "cell_type": "code",
   "execution_count": 8,
   "metadata": {},
   "outputs": [],
   "source": [
    "for _df in df.groupby(level=0):\n",
    "    print(_df)\n",
    "    exit()"
   ]
  },
  {
   "cell_type": "code",
   "execution_count": null,
   "metadata": {},
   "outputs": [],
   "source": [
    "df[['race_class_未勝利']]"
   ]
  },
  {
   "cell_type": "code",
   "execution_count": 1,
   "metadata": {},
   "outputs": [],
   "source": [
    "# for i in df.groupby(level=0):\n",
    "#     print(i[1][['race_class_未勝利', 'race_class_オープン']])"
   ]
  },
  {
   "cell_type": "code",
   "execution_count": 4,
   "metadata": {},
   "outputs": [],
   "source": [
    "rank_predictor = RankPredictor(1, 2)"
   ]
  },
  {
   "cell_type": "code",
   "execution_count": 5,
   "metadata": {},
   "outputs": [
    {
     "name": "stdout",
     "output_type": "stream",
     "text": [
      "[LightGBM] [Warning] bagging_freq is set=0, subsample_freq=0 will be ignored. Current value: bagging_freq=0\n",
      "[LightGBM] [Warning] lambda_l1 is set=6.6377046563499, reg_alpha=0.0 will be ignored. Current value: lambda_l1=6.6377046563499\n",
      "[LightGBM] [Warning] feature_fraction is set=0.748, colsample_bytree=1.0 will be ignored. Current value: feature_fraction=0.748\n",
      "[LightGBM] [Warning] bagging_fraction is set=1.0, subsample=1.0 will be ignored. Current value: bagging_fraction=1.0\n",
      "[LightGBM] [Warning] lambda_l2 is set=0.009493220785902975, reg_lambda=0.0 will be ignored. Current value: lambda_l2=0.009493220785902975\n"
     ]
    }
   ],
   "source": [
    "rank_predictor.predict(RaceCard(), date(2021, 7, 7))"
   ]
  },
  {
   "cell_type": "code",
   "execution_count": 106,
   "metadata": {},
   "outputs": [],
   "source": [
    "# r.data_cをtrain, test, validの3種のデータに分割\n",
    "train, test = m.split_data(r.data_c)\n",
    "train, valid = m.split_data(train)"
   ]
  },
  {
   "cell_type": "code",
   "execution_count": 107,
   "metadata": {},
   "outputs": [],
   "source": [
    "# クエリデータの生成\n",
    "query_train = list()\n",
    "query_valid = list()\n",
    "query_test = list()\n",
    "for i in train.groupby(level=0):\n",
    "    query_train.append(len(i[1]))\n",
    "for i in valid.groupby(level=0):\n",
    "    query_valid.append(len(i[1]))\n",
    "for i in test.groupby(level=0):\n",
    "    query_test.append(len(i[1]))"
   ]
  },
  {
   "cell_type": "code",
   "execution_count": 108,
   "metadata": {},
   "outputs": [],
   "source": [
    "drop_list = ['rank_binary', 'rank_regression', 'rank_lambdarank', 'date', 'jockey_id', 'breeder_id', 'owner_id', 'trainer_id', 'birthday', 'horse_id']"
   ]
  },
  {
   "cell_type": "code",
   "execution_count": 109,
   "metadata": {},
   "outputs": [],
   "source": [
    "# train, validを説明変数と目的変数に分割\n",
    "X_train = train.drop(drop_list+['odds'], axis=1)\n",
    "y_train = {'rank_binary': train['rank_binary'], 'rank_regression': train['rank_regression'], 'rank_lambdarank': train['rank_lambdarank']}\n",
    "X_valid = valid.drop(drop_list+['odds'], axis=1)\n",
    "y_valid = {'rank_binary': valid['rank_binary'], 'rank_regression': valid['rank_regression'], 'rank_lambdarank': valid['rank_lambdarank']}\n",
    "X_test = test.drop(drop_list, axis=1)\n",
    "y_test = {'rank_binary': test['rank_binary'], 'rank_regression': test['rank_regression'], 'rank_lambdarank': test['rank_lambdarank']}"
   ]
  },
  {
   "cell_type": "code",
   "execution_count": 110,
   "metadata": {},
   "outputs": [],
   "source": [
    "# lgbm用のデータに変形する\n",
    "lgb_train = {\n",
    "                'binary': lgb_o.Dataset(X_train.values, y_train['rank_binary'].values, group=query_train), \n",
    "                'regression': lgb_o.Dataset(X_train.values, y_train['rank_regression'].values, group=query_train),\n",
    "                'lambdarank': lgb_o.Dataset(X_train.values, y_train['rank_lambdarank'].values, group=query_train)\n",
    "            }\n",
    "\n",
    "lgb_valid = {\n",
    "                'binary': lgb_o.Dataset(X_valid.values, y_valid['rank_binary'].values, reference=lgb_train['binary'], group=query_valid), \n",
    "                'regression': lgb_o.Dataset(X_valid.values, y_valid['rank_regression'].values, reference=lgb_train['regression'], group=query_valid),\n",
    "                'lambdarank': lgb_o.Dataset(X_valid.values, y_valid['rank_lambdarank'].values, reference=lgb_train['lambdarank'], group=query_valid)\n",
    "            }"
   ]
  },
  {
   "cell_type": "code",
   "execution_count": 114,
   "metadata": {},
   "outputs": [],
   "source": [
    "ori_params_binary = {\n",
    "    'objective': 'binary',       # ランク学習を指定\n",
    "    'metric': \"binary_logloss\",              # 回帰の損失（誤差）\n",
    "    'feature_pre_filter': False,\n",
    "    'boosting_type': 'gbdt'\n",
    "}\n",
    "\n",
    "ori_params_regression = {\n",
    "    'objective': 'regression',       # ランク学習を指定\n",
    "    'metric': 'rmse',              # 回帰の損失（誤差）\n",
    "    'feature_pre_filter': False,\n",
    "    'boosting_type': 'gbdt'\n",
    "}\n",
    "\n",
    "ori_params_lambdarank = {\n",
    "    'objective': 'lambdarank',       # ランク学習を指定\n",
    "    'metric': \"ndcg\",           # 回帰の損失（誤差）\n",
    "    'feature_pre_filter': False,\n",
    "    'boosting_type': 'gbdt',\n",
    "    'eval_at': [1000]\n",
    "}"
   ]
  },
  {
   "cell_type": "code",
   "execution_count": 210,
   "metadata": {},
   "outputs": [],
   "source": [
    "# パラメータ設定2(binary)\n",
    "lgb_binary_results={}\n",
    "lgb_clf_o_binary = lgb_o.train(params=ori_params_binary,\n",
    "                        train_set=lgb_train['binary'],\n",
    "                        valid_sets=lgb_valid['binary'],\n",
    "                        verbose_eval=False,\n",
    "                        num_boost_round=100000,\n",
    "                        early_stopping_rounds=10,\n",
    "                        evals_result=lgb_binary_results\n",
    "                        )\n",
    "\n",
    "# パラメータ設定2(regression)\n",
    "lgb_regression_results={}\n",
    "lgb_clf_o_regression = lgb_o.train(params=ori_params_regression,\n",
    "                        train_set=lgb_train['regression'],\n",
    "                        valid_sets=lgb_valid['regression'],\n",
    "                        verbose_eval=False,\n",
    "                        num_boost_round=100000,\n",
    "                        early_stopping_rounds=10,\n",
    "                        evals_result=lgb_regression_results\n",
    "                        )\n",
    "\n",
    "# パラメータ設定2(lambdarank)\n",
    "lgb_lambdarank_results={}\n",
    "lgb_clf_o_lambdarank = lgb_o.train(params=ori_params_lambdarank,\n",
    "                        train_set=lgb_train['lambdarank'],\n",
    "                        valid_sets=lgb_valid['lambdarank'],\n",
    "                        verbose_eval=False,\n",
    "                        num_boost_round=100000,\n",
    "                        early_stopping_rounds=10,\n",
    "                        evals_result=lgb_lambdarank_results\n",
    "                        )"
   ]
  },
  {
   "cell_type": "code",
   "execution_count": 116,
   "metadata": {},
   "outputs": [
    {
     "name": "stdout",
     "output_type": "stream",
     "text": [
      "[LightGBM] [Warning] bagging_freq is set=0, subsample_freq=0 will be ignored. Current value: bagging_freq=0\n",
      "[LightGBM] [Warning] lambda_l1 is set=7.968548660059949e-05, reg_alpha=0.0 will be ignored. Current value: lambda_l1=7.968548660059949e-05\n",
      "[LightGBM] [Warning] feature_fraction is set=0.5, colsample_bytree=1.0 will be ignored. Current value: feature_fraction=0.5\n",
      "[LightGBM] [Warning] bagging_fraction is set=1.0, subsample=1.0 will be ignored. Current value: bagging_fraction=1.0\n",
      "[LightGBM] [Warning] lambda_l2 is set=9.869963593179214, reg_lambda=0.0 will be ignored. Current value: lambda_l2=9.869963593179214\n"
     ]
    },
    {
     "name": "stderr",
     "output_type": "stream",
     "text": [
      "/Users/naoki/.pyenv/versions/3.10.1/envs/Horse/lib/python3.10/site-packages/lightgbm/sklearn.py:621: UserWarning: Found 'eval_at' in params. Will use it instead of 'eval_at' argument\n",
      "  _log_warning(f\"Found '{alias}' in params. Will use it instead of 'eval_at' argument\")\n"
     ]
    },
    {
     "name": "stdout",
     "output_type": "stream",
     "text": [
      "[1]\tvalid_0's ndcg@1000: 0.560238\tvalid_1's ndcg@1000: 0.551653\n",
      "[2]\tvalid_0's ndcg@1000: 0.598302\tvalid_1's ndcg@1000: 0.584609\n",
      "[3]\tvalid_0's ndcg@1000: 0.610344\tvalid_1's ndcg@1000: 0.59396\n",
      "[4]\tvalid_0's ndcg@1000: 0.616213\tvalid_1's ndcg@1000: 0.595656\n",
      "[5]\tvalid_0's ndcg@1000: 0.621024\tvalid_1's ndcg@1000: 0.59776\n",
      "[6]\tvalid_0's ndcg@1000: 0.624681\tvalid_1's ndcg@1000: 0.598063\n",
      "[7]\tvalid_0's ndcg@1000: 0.628779\tvalid_1's ndcg@1000: 0.599974\n",
      "[8]\tvalid_0's ndcg@1000: 0.631953\tvalid_1's ndcg@1000: 0.600314\n",
      "[9]\tvalid_0's ndcg@1000: 0.63387\tvalid_1's ndcg@1000: 0.603293\n",
      "[10]\tvalid_0's ndcg@1000: 0.635568\tvalid_1's ndcg@1000: 0.602783\n",
      "[11]\tvalid_0's ndcg@1000: 0.638264\tvalid_1's ndcg@1000: 0.603717\n",
      "[12]\tvalid_0's ndcg@1000: 0.63962\tvalid_1's ndcg@1000: 0.602746\n",
      "[13]\tvalid_0's ndcg@1000: 0.642152\tvalid_1's ndcg@1000: 0.601035\n",
      "[14]\tvalid_0's ndcg@1000: 0.643926\tvalid_1's ndcg@1000: 0.601436\n",
      "[15]\tvalid_0's ndcg@1000: 0.645809\tvalid_1's ndcg@1000: 0.601979\n",
      "[16]\tvalid_0's ndcg@1000: 0.647075\tvalid_1's ndcg@1000: 0.602603\n",
      "[17]\tvalid_0's ndcg@1000: 0.648546\tvalid_1's ndcg@1000: 0.603506\n",
      "[18]\tvalid_0's ndcg@1000: 0.650098\tvalid_1's ndcg@1000: 0.603844\n",
      "[19]\tvalid_0's ndcg@1000: 0.651512\tvalid_1's ndcg@1000: 0.604816\n",
      "[20]\tvalid_0's ndcg@1000: 0.653079\tvalid_1's ndcg@1000: 0.604471\n",
      "[21]\tvalid_0's ndcg@1000: 0.654328\tvalid_1's ndcg@1000: 0.602273\n",
      "[22]\tvalid_0's ndcg@1000: 0.656701\tvalid_1's ndcg@1000: 0.602526\n",
      "[23]\tvalid_0's ndcg@1000: 0.658041\tvalid_1's ndcg@1000: 0.603521\n",
      "[24]\tvalid_0's ndcg@1000: 0.659685\tvalid_1's ndcg@1000: 0.604585\n",
      "[25]\tvalid_0's ndcg@1000: 0.661631\tvalid_1's ndcg@1000: 0.604419\n",
      "[26]\tvalid_0's ndcg@1000: 0.662585\tvalid_1's ndcg@1000: 0.604916\n",
      "[27]\tvalid_0's ndcg@1000: 0.663628\tvalid_1's ndcg@1000: 0.604892\n",
      "[28]\tvalid_0's ndcg@1000: 0.664498\tvalid_1's ndcg@1000: 0.603823\n",
      "[29]\tvalid_0's ndcg@1000: 0.665739\tvalid_1's ndcg@1000: 0.606334\n",
      "[30]\tvalid_0's ndcg@1000: 0.666519\tvalid_1's ndcg@1000: 0.607625\n",
      "[31]\tvalid_0's ndcg@1000: 0.667209\tvalid_1's ndcg@1000: 0.607486\n",
      "[32]\tvalid_0's ndcg@1000: 0.66874\tvalid_1's ndcg@1000: 0.608226\n",
      "[33]\tvalid_0's ndcg@1000: 0.669369\tvalid_1's ndcg@1000: 0.60772\n",
      "[34]\tvalid_0's ndcg@1000: 0.670207\tvalid_1's ndcg@1000: 0.607283\n",
      "[35]\tvalid_0's ndcg@1000: 0.671544\tvalid_1's ndcg@1000: 0.608268\n",
      "[36]\tvalid_0's ndcg@1000: 0.672483\tvalid_1's ndcg@1000: 0.6082\n",
      "[37]\tvalid_0's ndcg@1000: 0.674319\tvalid_1's ndcg@1000: 0.60883\n",
      "[38]\tvalid_0's ndcg@1000: 0.675784\tvalid_1's ndcg@1000: 0.608125\n",
      "[39]\tvalid_0's ndcg@1000: 0.676406\tvalid_1's ndcg@1000: 0.608251\n",
      "[40]\tvalid_0's ndcg@1000: 0.677377\tvalid_1's ndcg@1000: 0.608035\n",
      "[41]\tvalid_0's ndcg@1000: 0.678216\tvalid_1's ndcg@1000: 0.608719\n",
      "[42]\tvalid_0's ndcg@1000: 0.679108\tvalid_1's ndcg@1000: 0.609122\n",
      "[43]\tvalid_0's ndcg@1000: 0.680877\tvalid_1's ndcg@1000: 0.608225\n",
      "[44]\tvalid_0's ndcg@1000: 0.681668\tvalid_1's ndcg@1000: 0.609262\n",
      "[45]\tvalid_0's ndcg@1000: 0.683175\tvalid_1's ndcg@1000: 0.609213\n",
      "[46]\tvalid_0's ndcg@1000: 0.683507\tvalid_1's ndcg@1000: 0.61022\n",
      "[47]\tvalid_0's ndcg@1000: 0.684417\tvalid_1's ndcg@1000: 0.610237\n",
      "[48]\tvalid_0's ndcg@1000: 0.685086\tvalid_1's ndcg@1000: 0.60942\n",
      "[49]\tvalid_0's ndcg@1000: 0.686421\tvalid_1's ndcg@1000: 0.610199\n",
      "[50]\tvalid_0's ndcg@1000: 0.687429\tvalid_1's ndcg@1000: 0.610605\n",
      "[51]\tvalid_0's ndcg@1000: 0.688541\tvalid_1's ndcg@1000: 0.610664\n",
      "[52]\tvalid_0's ndcg@1000: 0.689621\tvalid_1's ndcg@1000: 0.610159\n",
      "[53]\tvalid_0's ndcg@1000: 0.690156\tvalid_1's ndcg@1000: 0.609973\n",
      "[54]\tvalid_0's ndcg@1000: 0.691063\tvalid_1's ndcg@1000: 0.611114\n",
      "[55]\tvalid_0's ndcg@1000: 0.691505\tvalid_1's ndcg@1000: 0.61025\n",
      "[56]\tvalid_0's ndcg@1000: 0.692885\tvalid_1's ndcg@1000: 0.610291\n",
      "[57]\tvalid_0's ndcg@1000: 0.693055\tvalid_1's ndcg@1000: 0.610056\n",
      "[58]\tvalid_0's ndcg@1000: 0.694502\tvalid_1's ndcg@1000: 0.610642\n",
      "[59]\tvalid_0's ndcg@1000: 0.69519\tvalid_1's ndcg@1000: 0.610792\n",
      "[60]\tvalid_0's ndcg@1000: 0.69628\tvalid_1's ndcg@1000: 0.611488\n",
      "[61]\tvalid_0's ndcg@1000: 0.697304\tvalid_1's ndcg@1000: 0.612152\n",
      "[62]\tvalid_0's ndcg@1000: 0.698136\tvalid_1's ndcg@1000: 0.612922\n",
      "[63]\tvalid_0's ndcg@1000: 0.699728\tvalid_1's ndcg@1000: 0.612783\n",
      "[64]\tvalid_0's ndcg@1000: 0.700863\tvalid_1's ndcg@1000: 0.612825\n",
      "[65]\tvalid_0's ndcg@1000: 0.701957\tvalid_1's ndcg@1000: 0.613032\n",
      "[66]\tvalid_0's ndcg@1000: 0.70287\tvalid_1's ndcg@1000: 0.613035\n",
      "[67]\tvalid_0's ndcg@1000: 0.704379\tvalid_1's ndcg@1000: 0.613095\n",
      "[68]\tvalid_0's ndcg@1000: 0.705446\tvalid_1's ndcg@1000: 0.613734\n",
      "[69]\tvalid_0's ndcg@1000: 0.706935\tvalid_1's ndcg@1000: 0.614183\n",
      "[70]\tvalid_0's ndcg@1000: 0.707579\tvalid_1's ndcg@1000: 0.614363\n",
      "[71]\tvalid_0's ndcg@1000: 0.708\tvalid_1's ndcg@1000: 0.613654\n",
      "[72]\tvalid_0's ndcg@1000: 0.708641\tvalid_1's ndcg@1000: 0.614049\n",
      "[73]\tvalid_0's ndcg@1000: 0.71003\tvalid_1's ndcg@1000: 0.613208\n",
      "[74]\tvalid_0's ndcg@1000: 0.710493\tvalid_1's ndcg@1000: 0.613442\n",
      "[75]\tvalid_0's ndcg@1000: 0.711046\tvalid_1's ndcg@1000: 0.613994\n",
      "[76]\tvalid_0's ndcg@1000: 0.712084\tvalid_1's ndcg@1000: 0.613479\n",
      "[77]\tvalid_0's ndcg@1000: 0.713035\tvalid_1's ndcg@1000: 0.613027\n",
      "[78]\tvalid_0's ndcg@1000: 0.714382\tvalid_1's ndcg@1000: 0.613107\n",
      "[79]\tvalid_0's ndcg@1000: 0.714823\tvalid_1's ndcg@1000: 0.61238\n",
      "[80]\tvalid_0's ndcg@1000: 0.715431\tvalid_1's ndcg@1000: 0.612275\n",
      "[81]\tvalid_0's ndcg@1000: 0.716371\tvalid_1's ndcg@1000: 0.61233\n",
      "[82]\tvalid_0's ndcg@1000: 0.717281\tvalid_1's ndcg@1000: 0.612653\n",
      "[83]\tvalid_0's ndcg@1000: 0.717862\tvalid_1's ndcg@1000: 0.611924\n",
      "[84]\tvalid_0's ndcg@1000: 0.718481\tvalid_1's ndcg@1000: 0.612955\n",
      "[85]\tvalid_0's ndcg@1000: 0.719509\tvalid_1's ndcg@1000: 0.613161\n",
      "[86]\tvalid_0's ndcg@1000: 0.720211\tvalid_1's ndcg@1000: 0.612662\n",
      "[87]\tvalid_0's ndcg@1000: 0.721218\tvalid_1's ndcg@1000: 0.612979\n",
      "[88]\tvalid_0's ndcg@1000: 0.721691\tvalid_1's ndcg@1000: 0.613257\n",
      "[89]\tvalid_0's ndcg@1000: 0.72247\tvalid_1's ndcg@1000: 0.61351\n",
      "[90]\tvalid_0's ndcg@1000: 0.723565\tvalid_1's ndcg@1000: 0.613447\n",
      "[91]\tvalid_0's ndcg@1000: 0.724108\tvalid_1's ndcg@1000: 0.613226\n",
      "[92]\tvalid_0's ndcg@1000: 0.725164\tvalid_1's ndcg@1000: 0.613212\n",
      "[93]\tvalid_0's ndcg@1000: 0.725619\tvalid_1's ndcg@1000: 0.613123\n",
      "[94]\tvalid_0's ndcg@1000: 0.726414\tvalid_1's ndcg@1000: 0.612901\n",
      "[95]\tvalid_0's ndcg@1000: 0.727074\tvalid_1's ndcg@1000: 0.613356\n",
      "[96]\tvalid_0's ndcg@1000: 0.72769\tvalid_1's ndcg@1000: 0.613074\n",
      "[97]\tvalid_0's ndcg@1000: 0.72838\tvalid_1's ndcg@1000: 0.612623\n",
      "[98]\tvalid_0's ndcg@1000: 0.729409\tvalid_1's ndcg@1000: 0.612199\n",
      "[99]\tvalid_0's ndcg@1000: 0.729774\tvalid_1's ndcg@1000: 0.613045\n",
      "[100]\tvalid_0's ndcg@1000: 0.730589\tvalid_1's ndcg@1000: 0.612922\n"
     ]
    },
    {
     "data": {
      "text/plain": [
       "LGBMRanker(bagging_fraction=1.0, bagging_freq=0, eval_at=[1000],\n",
       "           feature_fraction=0.8, feature_pre_filter=False,\n",
       "           lambda_l1=6.743546564412236, lambda_l2=0.0368663495968128,\n",
       "           metric='ndcg', objective='lambdarank')"
      ]
     },
     "execution_count": 116,
     "metadata": {},
     "output_type": "execute_result"
    }
   ],
   "source": [
    "params_binary = lgb_clf_o_binary.params\n",
    "params_regression = lgb_clf_o_regression.params\n",
    "params_lambdarank = lgb_clf_o_lambdarank.params\n",
    "params_binary.pop('num_iterations')\n",
    "params_binary.pop('early_stopping_round')\n",
    "params_regression.pop('num_iterations')\n",
    "params_regression.pop('early_stopping_round')\n",
    "params_lambdarank.pop('num_iterations')\n",
    "params_lambdarank.pop('early_stopping_round')\n",
    "lgb_clf_binary = lgb.LGBMClassifier(**params_binary)\n",
    "lgb_clf_regression = lgb.LGBMRegressor(**params_regression)\n",
    "lgb_clf_lambdarank = lgb.LGBMRanker(**params_lambdarank)\n",
    "lgb_clf_binary.fit(X_train.values, y_train['rank_binary'].values)\n",
    "lgb_clf_regression.fit(X_train.values, y_train['rank_regression'].values)\n",
    "lgb_clf_lambdarank.fit(\n",
    "                        X_train.values,\n",
    "                        y_train['rank_lambdarank'].values,\n",
    "                        group=query_train,\n",
    "                        eval_set=[(X_train.values, y_train['rank_lambdarank'].values), (X_valid.values, y_valid['rank_lambdarank'].values)],\n",
    "                        eval_group=[query_train, query_valid]\n",
    "                    )"
   ]
  },
  {
   "cell_type": "code",
   "execution_count": 117,
   "metadata": {},
   "outputs": [
    {
     "data": {
      "text/plain": [
       "<matplotlib.legend.Legend at 0x1be2be680>"
      ]
     },
     "execution_count": 117,
     "metadata": {},
     "output_type": "execute_result"
    },
    {
     "data": {
      "image/png": "[encoded data removed]",
      "text/plain": [
       "<Figure size 792x792 with 1 Axes>"
      ]
     },
     "metadata": {
      "needs_background": "light"
     },
     "output_type": "display_data"
    }
   ],
   "source": [
    "fig, ax = plt.subplots(figsize=(11, 11))\n",
    "mix = (lgb_clf_binary.predict_proba(X_test.drop(['odds'], axis=1))[:, 1] + lgb_clf_regression.predict(X_test.drop(['odds'], axis=1)) + lgb_clf_lambdarank.predict(X_test.drop(['odds'], axis=1))) / 3\n",
    "fpr1, tpr1, thresholds = roc_curve(y_test['rank_binary'], lgb_clf_binary.predict_proba(X_test.drop(['odds'], axis=1))[:, 1])\n",
    "fpr2, tpr2, thresholds = roc_curve(y_test['rank_binary'], lgb_clf_regression.predict(X_test.drop(['odds'], axis=1)))\n",
    "fpr3, tpr3, thresholds = roc_curve(y_test['rank_binary'], lgb_clf_lambdarank.predict(X_test.drop(['odds'], axis=1)))\n",
    "fpr4, tpr4, thresholds = roc_curve(y_test['rank_binary'], mix)\n",
    "ax.scatter(fpr1, tpr1, marker='o', s=0.1, label='binary: {}'.format(roc_auc_score(y_test['rank_binary'], lgb_clf_binary.predict_proba(X_test.drop(['odds'], axis=1))[:, 1])))\n",
    "ax.scatter(fpr2, tpr2, marker='o', s=0.1, label='regression: {}'.format(roc_auc_score(y_test['rank_binary'], lgb_clf_regression.predict(X_test.drop(['odds'], axis=1)))))\n",
    "ax.scatter(fpr3, tpr3, marker='o', s=0.1, label='lambdarank: {}'.format(roc_auc_score(y_test['rank_binary'], lgb_clf_lambdarank.predict(X_test.drop(['odds'], axis=1)))))\n",
    "ax.scatter(fpr4, tpr4, marker='o', s=0.1, label='mix: {}'.format(roc_auc_score(y_test['rank_binary'], mix)))\n",
    "ax.set_title('score')\n",
    "ax.set_xlabel('FPR: False positive rate')\n",
    "ax.set_ylabel('TPR: True positive rate')\n",
    "ax.grid()\n",
    "ax.legend()"
   ]
  },
  {
   "cell_type": "code",
   "execution_count": 118,
   "metadata": {},
   "outputs": [],
   "source": [
    "# ModelEvaluator\n",
    "me_binary = ModelEvaluator(lgb_clf_binary, return_tables_path=['../_dat/train_data/overall/return_tables.pickle'], kind=1, obj='binary')\n",
    "# display(me_binary.feature_importance(X_test.drop(['odds'], axis=1), n_display=30, type='gain'))\n",
    "\n",
    "me_regression = ModelEvaluator(lgb_clf_regression, return_tables_path=['../_dat/train_data/overall/return_tables.pickle'], kind=1, obj='regression')\n",
    "# display(me_regression.feature_importance(X_test.drop(['odds'], axis=1), n_display=60, type='split'))\n",
    "\n",
    "me_lambdarank = ModelEvaluator(lgb_clf_lambdarank, return_tables_path=['../_dat/train_data/overall/return_tables.pickle'], kind=0, obj='lambdarank')\n",
    "# display(me_lambdarank.feature_importance(X_test.drop(['odds'], axis=1), n_display=30, type='gain'))"
   ]
  },
  {
   "cell_type": "code",
   "execution_count": 207,
   "metadata": {},
   "outputs": [
    {
     "data": {
      "text/html": [
       "<div>\n",
       "<style scoped>\n",
       "    .dataframe tbody tr th:only-of-type {\n",
       "        vertical-align: middle;\n",
       "    }\n",
       "\n",
       "    .dataframe tbody tr th {\n",
       "        vertical-align: top;\n",
       "    }\n",
       "\n",
       "    .dataframe thead th {\n",
       "        text-align: right;\n",
       "    }\n",
       "</style>\n",
       "<table border=\"1\" class=\"dataframe\">\n",
       "  <thead>\n",
       "    <tr style=\"text-align: right;\">\n",
       "      <th></th>\n",
       "      <th>odds</th>\n",
       "    </tr>\n",
       "  </thead>\n",
       "  <tbody>\n",
       "    <tr>\n",
       "      <th>~ 1.1</th>\n",
       "      <td>13.959068</td>\n",
       "    </tr>\n",
       "    <tr>\n",
       "      <th>1.1 ~ 1.2</th>\n",
       "      <td>3.490571</td>\n",
       "    </tr>\n",
       "    <tr>\n",
       "      <th>1.2 ~ 1.3</th>\n",
       "      <td>3.241842</td>\n",
       "    </tr>\n",
       "    <tr>\n",
       "      <th>1.3 ~ 1.4</th>\n",
       "      <td>3.033996</td>\n",
       "    </tr>\n",
       "    <tr>\n",
       "      <th>1.4 ~ 1.5</th>\n",
       "      <td>2.843075</td>\n",
       "    </tr>\n",
       "    <tr>\n",
       "      <th>1.5 ~ 1.6</th>\n",
       "      <td>2.657389</td>\n",
       "    </tr>\n",
       "    <tr>\n",
       "      <th>1.6 ~ 1.7</th>\n",
       "      <td>2.479418</td>\n",
       "    </tr>\n",
       "    <tr>\n",
       "      <th>1.7 ~ 1.8</th>\n",
       "      <td>2.299588</td>\n",
       "    </tr>\n",
       "    <tr>\n",
       "      <th>1.8 ~ 1.9</th>\n",
       "      <td>2.135632</td>\n",
       "    </tr>\n",
       "    <tr>\n",
       "      <th>1.9 ~ 2.0</th>\n",
       "      <td>1.984075</td>\n",
       "    </tr>\n",
       "    <tr>\n",
       "      <th>2.0 ~ 2.1</th>\n",
       "      <td>1.882661</td>\n",
       "    </tr>\n",
       "    <tr>\n",
       "      <th>2.1 ~ 2.2</th>\n",
       "      <td>1.742405</td>\n",
       "    </tr>\n",
       "    <tr>\n",
       "      <th>2.2 ~ 2.3</th>\n",
       "      <td>1.607301</td>\n",
       "    </tr>\n",
       "    <tr>\n",
       "      <th>2.3 ~ 2.4</th>\n",
       "      <td>1.538462</td>\n",
       "    </tr>\n",
       "    <tr>\n",
       "      <th>2.4 ~</th>\n",
       "      <td>1.443787</td>\n",
       "    </tr>\n",
       "  </tbody>\n",
       "</table>\n",
       "</div>"
      ],
      "text/plain": [
       "                odds\n",
       " ~ 1.1     13.959068\n",
       "1.1 ~ 1.2   3.490571\n",
       "1.2 ~ 1.3   3.241842\n",
       "1.3 ~ 1.4   3.033996\n",
       "1.4 ~ 1.5   2.843075\n",
       "1.5 ~ 1.6   2.657389\n",
       "1.6 ~ 1.7   2.479418\n",
       "1.7 ~ 1.8   2.299588\n",
       "1.8 ~ 1.9   2.135632\n",
       "1.9 ~ 2.0   1.984075\n",
       "2.0 ~ 2.1   1.882661\n",
       "2.1 ~ 2.2   1.742405\n",
       "2.2 ~ 2.3   1.607301\n",
       "2.3 ~ 2.4   1.538462\n",
       "2.4 ~       1.443787"
      ]
     },
     "execution_count": 207,
     "metadata": {},
     "output_type": "execute_result"
    }
   ],
   "source": [
    "fukusho_df = pd.DataFrame({'score': lgb_clf_regression.predict(X_test.drop(['odds'], axis=1)), 'correct': y_test['rank_binary']})\n",
    "fukusho_odds_df = pd.DataFrame([], columns=['odds'])\n",
    "for threshold in np.arange(1, 2.5, 0.1):\n",
    "    threshold = round(threshold, 1)\n",
    "    temp = fukusho_df.copy()\n",
    "    if threshold != 1:\n",
    "        temp = temp[threshold < temp['score']]\n",
    "    elif threshold != 2.4:\n",
    "        temp = temp[temp['score'] < threshold+0.1]\n",
    "    if threshold == 1: row_name = ' ~ 1.1'\n",
    "    elif threshold == 2.4: row_name = '2.4 ~ '\n",
    "    else: row_name = '{} ~ {}'.format(threshold, round(threshold+0.1, 1))\n",
    "    fukusho_odds_df.loc[row_name] = [len(temp)/len(temp[temp['correct']==1])]\n",
    "fukusho_odds_df"
   ]
  },
  {
   "cell_type": "code",
   "execution_count": 18,
   "metadata": {},
   "outputs": [
    {
     "name": "stderr",
     "output_type": "stream",
     "text": [
      "  0%|          | 0/100 [00:05<?, ?it/s]\n"
     ]
    },
    {
     "ename": "ValueError",
     "evalue": "Number of features of the model must match the input. Model n_features_ is 52 and input n_features is 51",
     "output_type": "error",
     "traceback": [
      "\u001b[0;31m---------------------------------------------------------------------------\u001b[0m",
      "\u001b[0;31mValueError\u001b[0m                                Traceback (most recent call last)",
      "\u001b[1;32mセル24 を /Users/naoki/git/Horse_Racing/backend/Notebook/plot.ipynb\u001b[0m in \u001b[0;36m<cell line: 2>\u001b[0;34m()\u001b[0m\n\u001b[1;32m      <a href='vscode-notebook-cell:/Users/naoki/git/Horse_Racing/backend/Notebook/plot.ipynb#X35sZmlsZQ%3D%3D?line=0'>1</a>\u001b[0m original_race_card\u001b[39m.\u001b[39mpreprocessing()\n\u001b[0;32m----> <a href='vscode-notebook-cell:/Users/naoki/git/Horse_Racing/backend/Notebook/plot.ipynb#X35sZmlsZQ%3D%3D?line=1'>2</a>\u001b[0m g_tansho_binary \u001b[39m=\u001b[39m m\u001b[39m.\u001b[39;49mgain(model_evaluator\u001b[39m.\u001b[39;49mtansho_return, X)\n",
      "File \u001b[0;32m~/git/Horse_Racing/backend/module/functions.py:63\u001b[0m, in \u001b[0;36mgain\u001b[0;34m(return_func, X, n_samples, t_range)\u001b[0m\n\u001b[1;32m     60\u001b[0m \u001b[39mfor\u001b[39;00m i \u001b[39min\u001b[39;00m tqdm(\u001b[39mrange\u001b[39m(n_samples)):\n\u001b[1;32m     61\u001b[0m     \u001b[39m# min_thresholdから1まで、n_samples等分して、thresholdをfor分で回す\u001b[39;00m\n\u001b[1;32m     62\u001b[0m     threshold \u001b[39m=\u001b[39m t_range[\u001b[39m1\u001b[39m] \u001b[39m*\u001b[39m i \u001b[39m/\u001b[39m n_samples \u001b[39m+\u001b[39m t_range[\u001b[39m0\u001b[39m] \u001b[39m*\u001b[39m (\u001b[39m1\u001b[39m\u001b[39m-\u001b[39m(i\u001b[39m/\u001b[39mn_samples))\n\u001b[0;32m---> 63\u001b[0m     n_bets, return_rate, n_hits, std \u001b[39m=\u001b[39m return_func(X, threshold)\n\u001b[1;32m     64\u001b[0m     \u001b[39mif\u001b[39;00m n_bets \u001b[39m>\u001b[39m \u001b[39m2\u001b[39m:\n\u001b[1;32m     65\u001b[0m         gain[threshold] \u001b[39m=\u001b[39m {\n\u001b[1;32m     66\u001b[0m             \u001b[39m'\u001b[39m\u001b[39mreturn_rate\u001b[39m\u001b[39m'\u001b[39m: return_rate,\n\u001b[1;32m     67\u001b[0m             \u001b[39m'\u001b[39m\u001b[39mn_hits\u001b[39m\u001b[39m'\u001b[39m: n_hits,\n\u001b[1;32m     68\u001b[0m             \u001b[39m'\u001b[39m\u001b[39mstd\u001b[39m\u001b[39m'\u001b[39m: std,\n\u001b[1;32m     69\u001b[0m             \u001b[39m'\u001b[39m\u001b[39mn_bets\u001b[39m\u001b[39m'\u001b[39m: n_bets\n\u001b[1;32m     70\u001b[0m         }\n",
      "File \u001b[0;32m~/git/Horse_Racing/backend/module/_class/model_evaluator.py:107\u001b[0m, in \u001b[0;36mModelEvaluator.tansho_return\u001b[0;34m(self, X, threshold)\u001b[0m\n\u001b[1;32m    106\u001b[0m \u001b[39mdef\u001b[39;00m \u001b[39mtansho_return\u001b[39m(\u001b[39mself\u001b[39m, X, threshold\u001b[39m=\u001b[39m\u001b[39m0.5\u001b[39m):\n\u001b[0;32m--> 107\u001b[0m     pred_table \u001b[39m=\u001b[39m \u001b[39mself\u001b[39;49m\u001b[39m.\u001b[39;49mpred_table(X, threshold)\n\u001b[1;32m    108\u001b[0m     \u001b[39mself\u001b[39m\u001b[39m.\u001b[39msample \u001b[39m=\u001b[39m pred_table\n\u001b[1;32m    109\u001b[0m     n_bets \u001b[39m=\u001b[39m \u001b[39mlen\u001b[39m(pred_table)\n",
      "File \u001b[0;32m~/git/Horse_Racing/backend/module/_class/model_evaluator.py:56\u001b[0m, in \u001b[0;36mModelEvaluator.pred_table\u001b[0;34m(self, X, threshold, bet_only)\u001b[0m\n\u001b[1;32m     54\u001b[0m \u001b[39mdef\u001b[39;00m \u001b[39mpred_table\u001b[39m(\u001b[39mself\u001b[39m, X, threshold\u001b[39m=\u001b[39m\u001b[39m0.5\u001b[39m, bet_only\u001b[39m=\u001b[39m\u001b[39mTrue\u001b[39;00m):\n\u001b[1;32m     55\u001b[0m     pred_table \u001b[39m=\u001b[39m X\u001b[39m.\u001b[39mcopy()[[\u001b[39m'\u001b[39m\u001b[39mhorse_number\u001b[39m\u001b[39m'\u001b[39m, \u001b[39m'\u001b[39m\u001b[39modds\u001b[39m\u001b[39m'\u001b[39m]]\n\u001b[0;32m---> 56\u001b[0m     pred_table[\u001b[39m'\u001b[39m\u001b[39mpred\u001b[39m\u001b[39m'\u001b[39m] \u001b[39m=\u001b[39m \u001b[39mself\u001b[39;49m\u001b[39m.\u001b[39;49mpredict(X, threshold)\n\u001b[1;32m     57\u001b[0m     pred_table[\u001b[39m'\u001b[39m\u001b[39mscore\u001b[39m\u001b[39m'\u001b[39m] \u001b[39m=\u001b[39m \u001b[39mself\u001b[39m\u001b[39m.\u001b[39mproba\n\u001b[1;32m     58\u001b[0m     \u001b[39mif\u001b[39;00m bet_only:\n",
      "File \u001b[0;32m~/git/Horse_Racing/backend/module/_class/model_evaluator.py:43\u001b[0m, in \u001b[0;36mModelEvaluator.predict\u001b[0;34m(self, X, threshold)\u001b[0m\n\u001b[1;32m     42\u001b[0m \u001b[39mdef\u001b[39;00m \u001b[39mpredict\u001b[39m(\u001b[39mself\u001b[39m, X, threshold\u001b[39m=\u001b[39m\u001b[39m0.5\u001b[39m):\n\u001b[0;32m---> 43\u001b[0m     y_pred \u001b[39m=\u001b[39m \u001b[39mself\u001b[39;49m\u001b[39m.\u001b[39;49mpredict_proba(X)\n\u001b[1;32m     44\u001b[0m     \u001b[39mself\u001b[39m\u001b[39m.\u001b[39mproba \u001b[39m=\u001b[39m y_pred\n\u001b[1;32m     45\u001b[0m     \u001b[39mreturn\u001b[39;00m [\u001b[39m0\u001b[39m \u001b[39mif\u001b[39;00m p \u001b[39m<\u001b[39m threshold \u001b[39melse\u001b[39;00m \u001b[39m1\u001b[39m \u001b[39mfor\u001b[39;00m p \u001b[39min\u001b[39;00m y_pred]\n",
      "File \u001b[0;32m~/git/Horse_Racing/backend/module/_class/model_evaluator.py:27\u001b[0m, in \u001b[0;36mModelEvaluator.predict_proba\u001b[0;34m(self, X, train, std, minmax)\u001b[0m\n\u001b[1;32m     24\u001b[0m \u001b[39mdef\u001b[39;00m \u001b[39mpredict_proba\u001b[39m(\u001b[39mself\u001b[39m, X, train\u001b[39m=\u001b[39m\u001b[39mTrue\u001b[39;00m, std\u001b[39m=\u001b[39m\u001b[39mTrue\u001b[39;00m, minmax\u001b[39m=\u001b[39m\u001b[39mFalse\u001b[39;00m):\n\u001b[1;32m     25\u001b[0m     \u001b[39mif\u001b[39;00m train:\n\u001b[1;32m     26\u001b[0m         proba \u001b[39m=\u001b[39m pd\u001b[39m.\u001b[39mSeries(\n\u001b[0;32m---> 27\u001b[0m             \u001b[39mself\u001b[39;49m\u001b[39m.\u001b[39;49mmodel\u001b[39m.\u001b[39;49mpredict(X\u001b[39m.\u001b[39;49mdrop([\u001b[39m'\u001b[39;49m\u001b[39modds\u001b[39;49m\u001b[39m'\u001b[39;49m], axis\u001b[39m=\u001b[39;49m\u001b[39m1\u001b[39;49m)), index\u001b[39m=\u001b[39mX\u001b[39m.\u001b[39mindex\n\u001b[1;32m     28\u001b[0m         )\n\u001b[1;32m     29\u001b[0m     \u001b[39melse\u001b[39;00m:\n\u001b[1;32m     30\u001b[0m         proba \u001b[39m=\u001b[39m pd\u001b[39m.\u001b[39mSeries(\n\u001b[1;32m     31\u001b[0m             \u001b[39mself\u001b[39m\u001b[39m.\u001b[39mmodel\u001b[39m.\u001b[39mpredict(X), index\u001b[39m=\u001b[39mX\u001b[39m.\u001b[39mindex\n\u001b[1;32m     32\u001b[0m         )\n",
      "File \u001b[0;32m~/.pyenv/versions/3.10.1/envs/Horse/lib/python3.10/site-packages/lightgbm/sklearn.py:800\u001b[0m, in \u001b[0;36mLGBMModel.predict\u001b[0;34m(self, X, raw_score, start_iteration, num_iteration, pred_leaf, pred_contrib, **kwargs)\u001b[0m\n\u001b[1;32m    798\u001b[0m n_features \u001b[39m=\u001b[39m X\u001b[39m.\u001b[39mshape[\u001b[39m1\u001b[39m]\n\u001b[1;32m    799\u001b[0m \u001b[39mif\u001b[39;00m \u001b[39mself\u001b[39m\u001b[39m.\u001b[39m_n_features \u001b[39m!=\u001b[39m n_features:\n\u001b[0;32m--> 800\u001b[0m     \u001b[39mraise\u001b[39;00m \u001b[39mValueError\u001b[39;00m(\u001b[39m\"\u001b[39m\u001b[39mNumber of features of the model must \u001b[39m\u001b[39m\"\u001b[39m\n\u001b[1;32m    801\u001b[0m                      \u001b[39mf\u001b[39m\u001b[39m\"\u001b[39m\u001b[39mmatch the input. Model n_features_ is \u001b[39m\u001b[39m{\u001b[39;00m\u001b[39mself\u001b[39m\u001b[39m.\u001b[39m_n_features\u001b[39m}\u001b[39;00m\u001b[39m and \u001b[39m\u001b[39m\"\u001b[39m\n\u001b[1;32m    802\u001b[0m                      \u001b[39mf\u001b[39m\u001b[39m\"\u001b[39m\u001b[39minput n_features is \u001b[39m\u001b[39m{\u001b[39;00mn_features\u001b[39m}\u001b[39;00m\u001b[39m\"\u001b[39m)\n\u001b[1;32m    803\u001b[0m \u001b[39mreturn\u001b[39;00m \u001b[39mself\u001b[39m\u001b[39m.\u001b[39m_Booster\u001b[39m.\u001b[39mpredict(X, raw_score\u001b[39m=\u001b[39mraw_score, start_iteration\u001b[39m=\u001b[39mstart_iteration, num_iteration\u001b[39m=\u001b[39mnum_iteration,\n\u001b[1;32m    804\u001b[0m                              pred_leaf\u001b[39m=\u001b[39mpred_leaf, pred_contrib\u001b[39m=\u001b[39mpred_contrib, \u001b[39m*\u001b[39m\u001b[39m*\u001b[39mkwargs)\n",
      "\u001b[0;31mValueError\u001b[0m: Number of features of the model must match the input. Model n_features_ is 52 and input n_features is 51"
     ]
    }
   ],
   "source": [
    "original_race_card.preprocessing()\n",
    "g_tansho_binary = m.gain(model_evaluator.tansho_return)"
   ]
  },
  {
   "cell_type": "code",
   "execution_count": null,
   "metadata": {},
   "outputs": [
    {
     "name": "stderr",
     "output_type": "stream",
     "text": [
      "100%|██████████| 100/100 [04:59<00:00,  2.99s/it]\n",
      "100%|██████████| 100/100 [06:26<00:00,  3.87s/it]\n",
      " 92%|█████████▏| 92/100 [05:22<00:20,  2.52s/it]/Users/naoki/.pyenv/versions/3.10.1/envs/Horse/lib/python3.10/site-packages/numpy/core/_methods.py:264: RuntimeWarning: Degrees of freedom <= 0 for slice\n",
      "  ret = _var(a, axis=axis, dtype=dtype, out=out, ddof=ddof,\n",
      "/Users/naoki/.pyenv/versions/3.10.1/envs/Horse/lib/python3.10/site-packages/numpy/core/_methods.py:222: RuntimeWarning: invalid value encountered in true_divide\n",
      "  arrmean = um.true_divide(arrmean, div, out=arrmean, casting='unsafe',\n",
      "/Users/naoki/.pyenv/versions/3.10.1/envs/Horse/lib/python3.10/site-packages/numpy/core/_methods.py:256: RuntimeWarning: invalid value encountered in double_scalars\n",
      "  ret = ret.dtype.type(ret / rcount)\n",
      "/Users/naoki/git/Horse-Racing/Notebook/../module/_class/ModelEvaluator.py:141: RuntimeWarning: invalid value encountered in double_scalars\n",
      "  return_rate = np.sum(return_list) / n_bets\n",
      " 92%|█████████▏| 92/100 [05:25<00:28,  3.54s/it]\n"
     ]
    }
   ],
   "source": [
    "g_tansho_binary = m.gain(me_binary.tansho_return, X_test)\n",
    "g_tansho_regression = m.gain(me_regression.tansho_return, X_test)\n",
    "g_tansho_lambdarank = m.gain(me_lambdarank.tansho_return, X_test)\n",
    "# g_proper = m.gain(me.tansho_return_proper, X_test)\n",
    "# g_umaren = m.gain(me_binary.umaren_box, X_test)\n",
    "# g_sanrenpuku = m.gain(me_binary.sanrenpuku_box, X_test)\n",
    "# g_fukusho = m.gain(me.fukusho_return, X_test)"
   ]
  },
  {
   "cell_type": "code",
   "execution_count": null,
   "metadata": {},
   "outputs": [
    {
     "data": {
      "text/plain": [
       "<matplotlib.collections.LineCollection at 0x1b1de5b70>"
      ]
     },
     "execution_count": 22,
     "metadata": {},
     "output_type": "execute_result"
    },
    {
     "data": {
      "image/png": "[encoded data removed]",
      "text/plain": [
       "<Figure size 720x576 with 1 Axes>"
      ]
     },
     "metadata": {
      "needs_background": "light"
     },
     "output_type": "display_data"
    }
   ],
   "source": [
    "plt.figure(figsize=(10, 8))\n",
    "m.plot(g_tansho_binary, 'tansho_binary')\n",
    "m.plot(g_tansho_regression, 'tansho_regression')\n",
    "m.plot(g_tansho_lambdarank, 'tansho_lambdarank')\n",
    "# m.plot(g_proper, 'proper')\n",
    "# m.plot(g_umaren, 'umaren')\n",
    "# m.plot(g_sanrenpuku, 'sanrenpuku')\n",
    "# m.plot(g_proper, 'proper')\n",
    "# m.plot(g_fukusho, 'fukusho')\n",
    "plt.hlines(1, xmin=0.5, xmax=3.5) # y=1の直線"
   ]
  },
  {
   "cell_type": "code",
   "execution_count": 59,
   "metadata": {},
   "outputs": [],
   "source": [
    "# # ModelEvaluator\n",
    "# me = ModelEvaluator(lgb_clf, return_tables_path=['../_dat/pickle/overall/return_tables.pickle'], kind = 0)\n",
    "# me.predict_proba(X_test)\n",
    "# display(me.feature_importance(X_test.drop(['odds'], axis=1), n_display=20))"
   ]
  },
  {
   "cell_type": "code",
   "execution_count": 60,
   "metadata": {},
   "outputs": [],
   "source": [
    "# g_proper = m.gain(me.tansho_return_proper, X_test)\n",
    "# g_tansho = m.gain(me.tansho_return, X_test)\n",
    "# g_fukusho = m.gain(me.fukusho_return, X_test)\n",
    "# g_umatan = m.gain(me.umatan_box, X_test)\n",
    "# g_umaren = m.gain(me.umaren_box, X_test)\n",
    "# g_wide = m.gain(me.wide_box, X_test)\n",
    "# g_sanrentan = m.gain(me.sanrentan_box, X_test)\n",
    "# g_sanrenpuku = m.gain(me.sanrenpuku_box, X_test)\n",
    "# g_umaren_nagashi = m.gain(me.umaren_nagashi, X_test)\n",
    "# g_umatan_nagashi = m.gain(me.umatan_nagashi, X_test)\n",
    "# g_wide_nagashi = m.gain(me.wide_nagashi, X_test)\n",
    "# g_sanrentan_nagashi = m.gain(me.sanrentan_nagashi, X_test)"
   ]
  },
  {
   "cell_type": "code",
   "execution_count": 61,
   "metadata": {},
   "outputs": [],
   "source": [
    "# plt.figure(figsize=(10, 8))\n",
    "# m.plot(g_proper, 'proper')\n",
    "# m.plot(g_tansho, 'tansho')\n",
    "# m.plot(g_fukusho, 'fukusho')\n",
    "# plt.hlines(1, xmin=0.5, xmax=3.5) # y=1の直線"
   ]
  },
  {
   "cell_type": "code",
   "execution_count": 62,
   "metadata": {},
   "outputs": [],
   "source": [
    "# plt.figure(figsize=(10, 8))\n",
    "# m.plot(g_umatan, 'umatan')\n",
    "# m.plot(g_umaren, 'umaren')\n",
    "# m.plot(g_wide, 'wide')\n",
    "# plt.hlines(1, xmin=0.5, xmax=2.5) # y=1の直線"
   ]
  },
  {
   "cell_type": "code",
   "execution_count": 63,
   "metadata": {},
   "outputs": [],
   "source": [
    "# plt.figure(figsize=(10, 8))\n",
    "# m.plot(g_sanrentan, 'sanrentan')\n",
    "# m.plot(g_sanrenpuku, 'sanrenpuku')\n",
    "# plt.hlines(1, xmin=0.5, xmax=2.0) # y=1の直線"
   ]
  },
  {
   "cell_type": "code",
   "execution_count": 64,
   "metadata": {},
   "outputs": [],
   "source": [
    "# plt.figure(figsize=(10, 8))\n",
    "# m.plot(g_umatan_nagashi, 'umatan_nagashi')\n",
    "# m.plot(g_umaren_nagashi, 'umaren_nagashi')\n",
    "# m.plot(g_wide_nagashi, 'wide_nagashi')\n",
    "# plt.hlines(1, xmin=0.5, xmax=3.5) # y=1の直線"
   ]
  },
  {
   "cell_type": "code",
   "execution_count": 65,
   "metadata": {},
   "outputs": [],
   "source": [
    "# plt.figure(figsize=(10, 8))\n",
    "# m.plot(g_sanrentan_nagashi, 'sanrentan_nagashi')\n",
    "# plt.hlines(1, xmin=0.5, xmax=2.5) # y=1の直線"
   ]
  },
  {
   "cell_type": "code",
   "execution_count": 40,
   "metadata": {},
   "outputs": [
    {
     "data": {
      "image/png": "[encoded data removed]",
      "text/plain": [
       "<Figure size 720x576 with 1 Axes>"
      ]
     },
     "metadata": {
      "needs_background": "light"
     },
     "output_type": "display_data"
    }
   ],
   "source": [
    "# 横軸: 賭け枚数\n",
    "# 縦軸: 回収率\n",
    "# 賭け枚数が少ない→一つの当たりの影響が大きい→賭け枚数が多いところでの期待値も＋になることが理想。\n",
    "\n",
    "plt.figure(figsize=(10, 8))\n",
    "plt.plot(g_tansho['n_bets'], g_tansho['return_rate'], label='tansho')\n",
    "# plt.plot(g_proper['n_bets'], g_proper['return_rate'], label='proper')\n",
    "# plt.plot(g_fukusho['n_bets'], g_fukusho['return_rate'], label='fukusho')\n",
    "# plt.plot(g_umaren['n_bets'], g_umaren['return_rate'], label='umaren')\n",
    "# plt.plot(g_umatan['n_bets'], g_umatan['return_rate'], label='umatan')\n",
    "# plt.plot(g_wide['n_bets'], g_wide['return_rate'], label='wide')\n",
    "# plt.plot(g_sanrentan['n_bets'], g_sanrentan['return_rate'], label='sanrentan')\n",
    "# plt.plot(g_sanrenpuku['n_bets'], g_sanrenpuku['return_rate'], label='sarenpuku')\n",
    "plt.hlines(1, xmin=-10, xmax=100000) # y=1の直線\n",
    "plt.xlim(-10, 1000)\n",
    "plt.legend()\n",
    "plt.grid(True)"
   ]
  },
  {
   "cell_type": "code",
   "execution_count": null,
   "metadata": {},
   "outputs": [],
   "source": [
    "# # 横軸: 賭け枚数\n",
    "# # 縦軸: 回収率\n",
    "\n",
    "# plt.figure(figsize=(10, 8))\n",
    "# plt.plot(g_umaren_nagashi['n_bets'], g_umaren_nagashi['return_rate'], label='umaren_nagashi')\n",
    "# plt.plot(g_umatan_nagashi['n_bets'], g_umatan_nagashi['return_rate'], label='umatan_nagashi')\n",
    "# plt.plot(g_wide_nagashi['n_bets'], g_wide_nagashi['return_rate'], label='wide_nagashi')\n",
    "# plt.plot(g_sanrentan_nagashi['n_bets'], g_sanrentan_nagashi['return_rate'], label='sanrentan_nagashi')\n",
    "# plt.hlines(1, xmin=-10, xmax=2000) # y=1の直線\n",
    "# plt.xlim(-10, 2000)\n",
    "# plt.legend()\n",
    "# plt.grid(True)"
   ]
  },
  {
   "cell_type": "code",
   "execution_count": null,
   "metadata": {},
   "outputs": [],
   "source": [
    "# # シャープレシオ\n",
    "\n",
    "# plt.figure(figsize=(10, 8))\n",
    "# plt.plot(g_proper['n_bets'], (g_proper['return_rate'] - 1) / g_proper['std'], label='proper')\n",
    "# plt.plot(g_tansho['n_bets'], (g_tansho['return_rate'] - 1) / g_tansho['std'], label='tansho')\n",
    "# plt.plot(g_umaren['n_bets'], (g_umaren['return_rate'] - 1) / g_umaren['std'], label='umaren')\n",
    "# # plt.plot(g_umatan['n_bets'], (g_umatan['return_rate'] - 1) / g_umatan['std'], label='umatan')\n",
    "# # plt.plot(g_wide['n_bets'], (g_wide['return_rate'] - 1) / g_wide['std'], label='wide')\n",
    "# # plt.plot(g_sanrentan['n_bets'], (g_sanrentan['return_rate'] - 1) / g_sanrentan['std'], label='sanrentan')\n",
    "# plt.plot(g_sanrenpuku['n_bets'], (g_sanrenpuku['return_rate'] - 1) / g_sanrenpuku['std'], label='sanrenpuku')\n",
    "# plt.xlim(-10, 200)\n",
    "# plt.ylim(-10, 5)\n",
    "# plt.legend()\n",
    "# plt.grid()"
   ]
  },
  {
   "cell_type": "code",
   "execution_count": null,
   "metadata": {},
   "outputs": [],
   "source": [
    "# # シャープレシオ\n",
    "\n",
    "# plt.figure(figsize=(10, 8))\n",
    "# plt.plot(g_umaren_nagashi['n_bets'], (g_umaren_nagashi['return_rate'] - 1) / g_umaren_nagashi['std'], label='umaren_nagashi')\n",
    "# plt.plot(g_umatan_nagashi['n_bets'], (g_umatan_nagashi['return_rate'] - 1) / g_umatan_nagashi['std'], label='umatan_nagashi')\n",
    "# plt.plot(g_wide_nagashi['n_bets'], (g_wide_nagashi['return_rate'] - 1) / g_wide_nagashi['std'], label='wide_nagashi')\n",
    "# plt.plot(g_sanrentan_nagashi['n_bets'], (g_sanrentan_nagashi['return_rate'] - 1) / g_sanrentan_nagashi['std'], label='sanrentan_nagashi')\n",
    "# plt.xlim(-10, 2000)\n",
    "# plt.ylim(-10, 5)\n",
    "# plt.legend()\n",
    "# plt.grid()"
   ]
  },
  {
   "cell_type": "code",
   "execution_count": null,
   "metadata": {},
   "outputs": [],
   "source": []
  }
 ],
 "metadata": {
  "interpreter": {
   "hash": "c05dc3219fcd543b1f0376570d45d347b84df25f0ea6f4909d168aaecceef9a6"
  },
  "kernelspec": {
   "display_name": "Python 3.10.1 64-bit ('Horse')",
   "language": "python",
   "name": "python3"
  },
  "language_info": {
   "codemirror_mode": {
    "name": "ipython",
    "version": 3
   },
   "file_extension": ".py",
   "mimetype": "text/x-python",
   "name": "python",
   "nbconvert_exporter": "python",
   "pygments_lexer": "ipython3",
   "version": "3.10.1 (main, Jan  6 2022, 01:51:10) [Clang 12.0.0 (clang-1200.0.32.27)]"
  },
  "orig_nbformat": 4
 },
 "nbformat": 4,
 "nbformat_minor": 2
}
